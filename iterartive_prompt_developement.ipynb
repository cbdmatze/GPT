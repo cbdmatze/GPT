{
  "nbformat": 4,
  "nbformat_minor": 0,
  "metadata": {
    "colab": {
      "provenance": [],
      "authorship_tag": "ABX9TyOQjsOJhu49djuiE8469tC4",
      "include_colab_link": true
    },
    "kernelspec": {
      "name": "python3",
      "display_name": "Python 3"
    },
    "language_info": {
      "name": "python"
    }
  },
  "cells": [
    {
      "cell_type": "markdown",
      "metadata": {
        "id": "view-in-github",
        "colab_type": "text"
      },
      "source": [
        "<a href=\"https://colab.research.google.com/github/cbdmatze/GPT/blob/main/iterartive_prompt_developement.ipynb\" target=\"_parent\"><img src=\"https://colab.research.google.com/assets/colab-badge.svg\" alt=\"Open In Colab\"/></a>"
      ]
    },
    {
      "cell_type": "markdown",
      "source": [
        "# Iterative Prompt Developement\n",
        "\n",
        "*   In this notebook we'll iterative analyze and refine our prompts to generate\n",
        "    marketing copy from a product fact sheet.\n",
        "\n"
      ],
      "metadata": {
        "id": "lr80du3wz-Cs"
      }
    },
    {
      "cell_type": "markdown",
      "source": [
        "# Setup"
      ],
      "metadata": {
        "id": "9S1_WDM80bPK"
      }
    },
    {
      "cell_type": "code",
      "source": [
        "import openai\n",
        "import os\n",
        "\n",
        "from dotenv import load_dotenv, find_dotenv\n",
        "_ = load_dotenv(find_dotenv()) # Read local .env file\n",
        "\n",
        "openai.api_key = os.getenv('OPENAI_API_KEY')\n"
      ],
      "metadata": {
        "id": "dF1ixb6n0_Xj"
      },
      "execution_count": null,
      "outputs": []
    },
    {
      "cell_type": "code",
      "source": [
        "def get_completion(prompt, model=\"gpt-3.5-turbo\"):\n",
        "    messages = [{\"role\": \"user\", \"content\": prompt}]\n",
        "    response = openai.ChatCompletion.create(\n",
        "        model=model,\n",
        "        messages=messages,\n",
        "        temperature=0, # This is the degree of randomness of the model's output\n",
        "    )\n",
        "    return response.choices[0].message[\"content\"]\n",
        "    )"
      ],
      "metadata": {
        "id": "OZ5xFLfm1uPz"
      },
      "execution_count": null,
      "outputs": []
    },
    {
      "cell_type": "markdown",
      "source": [
        "Note: In June 2023, OpenAI upgraded gpt-3.5-turbo. The results you see in this\n",
        "      notebook may be slightly different from the nowerdays ones. Some of the\n",
        "      prompts have also slightly been modified to produce the desired results."
      ],
      "metadata": {
        "id": "vT2dRmw62Cs2"
      }
    },
    {
      "cell_type": "markdown",
      "source": [
        "# Generate a marketing product description from a product fact sheet"
      ],
      "metadata": {
        "id": "MnQbZ8VI2xP8"
      }
    },
    {
      "cell_type": "code",
      "source": [
        "fact_sheet_chair = \"\"\"\n",
        "OVERVIEW\n",
        "- Part of a beautiful family of mid-century inspired office furniture,\n",
        "including filling cabinets, desks, bookcases, meeting tables, and more.\n",
        "- Several options of shell color and base finishes.\n",
        "- Available with plastic back and front upholstery (SWC-100)\n",
        "or full upholstery (SWC-110) in 10 fabric and 6 leather options.\n",
        "- Base finish options are: stainless steel, matte black,\n",
        "gloss white, or chrome.\n",
        "- Chair is available with or without armrests.\n",
        "- Suitable for home or business settings.\n",
        "- Qualified for contract use.\n",
        "\n",
        "CONSTRUCTION\n",
        "- 5-wheel plastic coated aluminium base.\n",
        "- Pneumatic chair adjust for easy raise/lower action.\n",
        "\n",
        "DIMENSIONS\n",
        "- WIDTHk 53 CM | 20.87\"\n",
        "- DEPTH 51 CM | 20.08\"\n",
        "- HEIGHT 80 CM | 31.50\"\n",
        "- SEAT HEIGHT 44 CM | 17.32\"\n",
        "- SEAT DEPTH 41 CM | 16.14\"\n",
        "\n",
        "OPTIONS\n",
        "- Soft or hard-floor caster options.\n",
        "- Two choices of seat foam densities:\n",
        " medium (1.8 lb/ft3) or high (2.8 lb/ft3)\n",
        "- Armless or 8 position PU armrests\n",
        "\n",
        "MATERIALS\n",
        "SHELL BASE GLIDER\n",
        "- Cast aluminium with modified nylon PA6/PA66 coating.\n",
        "- Shell thickness 10 mm.\n",
        "SEAT\n",
        "- HD36 foam\n",
        "\n",
        "COUNTRY OF ORIGIN\n",
        "- Italy\n",
        "\"\"\""
      ],
      "metadata": {
        "id": "bPJNvzRq28Tx"
      },
      "execution_count": null,
      "outputs": []
    },
    {
      "cell_type": "code",
      "source": [
        "prompt = f\"\"\"\n",
        "Your task is to help a marketing team create a\n",
        "description for a retail website of a product based\n",
        "on a technical fact sheet.\n",
        "\n",
        "Write a product description based on the information\n",
        "provided in the technical specifiations delimited by\n",
        "triple backticks.\n",
        "\n",
        "Technical specifications: ```{fact_sheet_chair}````\n",
        "\"\"\"\n",
        "\n",
        "respones = get_completion(prompt)\n",
        "print(response)"
      ],
      "metadata": {
        "id": "cJ1xxD1w51Oh"
      },
      "execution_count": null,
      "outputs": []
    },
    {
      "cell_type": "markdown",
      "source": [
        "Introducing our stylish and versatile mid-century inspired office chair, perfect for both home and business settings. This chair is part of a beautiful family of office furniture that includes filing cabinets, desks, bookcases, meeting tables, and more.\n",
        "\n",
        "Customize your chair with several options of shell color and base finishes to suit your personal style. Choose between plastic back and front upholstery or full upholstery in a variety of fabric and leather options. The base finish options include stainless steel, matte black, gloss white, or chrome. You can also choose to have armrests or go for a sleek armless design.\n",
        "\n",
        "Constructed with a 5-wheel plastic coated aluminum base, this chair features a pneumatic chair adjust for easy raise/lower action. The dimensions of the chair are as follows: width 53 cm, depth 51 cm, height 80 cm, seat height 44 cm, and seat depth 41 cm.\n",
        "\n",
        "Personalize your chair even further with options such as soft or hard-floor caster options, two choices of seat foam densities (medium or high), and the choice between armless or 8 position PU armrests.\n",
        "\n",
        "Made with high-quality materials, including a cast aluminum shell with modified nylon coating and HD36 foam seat, this chair is designed for durability and comfort. Plus, it is qualified for contract use, making it a reliable choice for any workspace.\n",
        "\n",
        "Add a touch of Italian elegance to your office with this stylish and functional office chair. Elevate your workspace with our mid-century inspired chair that combines style, comfort, and functionality seamlessly."
      ],
      "metadata": {
        "id": "iJe-12wr_Juh"
      }
    },
    {
      "cell_type": "markdown",
      "source": [
        "#   Issue 1: The text is too long\n",
        "\n",
        "*   Limit the number of words/sentences/characters.\n",
        "\n"
      ],
      "metadata": {
        "id": "t9qgDLJO6cSy"
      }
    },
    {
      "cell_type": "code",
      "source": [
        "prompt = f\"\"\"\n",
        "Your task is to help a marketing team create a\n",
        "description for a retail website of a product based\n",
        "on a technical fact sheet.\n",
        "\n",
        "Write a product description based ont the information\n",
        "provided in the technical specifications delimited by\n",
        "triple backticks.\n",
        "\n",
        "Use at most 50 words.\n",
        "\n",
        "Technical specifications: ```{fact_sheet_chair}````\n",
        "\"\"\"\n",
        "\n",
        "response = get_completion(prompt)\n",
        "print(response)"
      ],
      "metadata": {
        "id": "M4mR5igK6pto"
      },
      "execution_count": null,
      "outputs": []
    },
    {
      "cell_type": "code",
      "source": [
        "len(response.split())"
      ],
      "metadata": {
        "id": "fWiQQpG07Tgs"
      },
      "execution_count": null,
      "outputs": []
    },
    {
      "cell_type": "markdown",
      "source": [
        "Introducing our versatile and stylish mid-century office chair, available in a range of colors and finishes. With adjustable height and comfortable upholstery options, this chair is perfect for both home and business use. Made in Italy with quality materials, it's a perfect blend of form and function."
      ],
      "metadata": {
        "id": "zi-i9hGr_Rba"
      }
    },
    {
      "cell_type": "markdown",
      "source": [
        "47\n"
      ],
      "metadata": {
        "id": "OuX7IFTD_ZCD"
      }
    },
    {
      "cell_type": "markdown",
      "source": [
        "# Issue 2: Text focuses on the wrong details\n",
        "\n",
        "*   Ask the model to focus on the aspects that are relevant to the intended\n",
        "    audience.\n",
        "\n"
      ],
      "metadata": {
        "id": "boswrBNa7ZRS"
      }
    },
    {
      "cell_type": "code",
      "source": [
        "prompt = f\"\"\"\n",
        "Your task is to help a marketing team create a\n",
        "description for a retail website of a product based\n",
        "on a technical fact sheet.\n",
        "\n",
        "Write a product description based on the information\n",
        "provided in the technical specifications delimited by\n",
        "triple backticks.\n",
        "\n",
        "The description is intended for furniture retailers,\n",
        "so should be technical in nature and focus on the\n",
        "materials the product is constructed from.\n",
        "\n",
        "Use at most 50 words.\n",
        "\n",
        "Technical specifications: ```{fact_sheet_chair}````\n",
        "\"\"\"\n",
        "\n",
        "response = get_completion(prompt)\n",
        "print(response)"
      ],
      "metadata": {
        "id": "8GGnzzoA70Ig"
      },
      "execution_count": null,
      "outputs": []
    },
    {
      "cell_type": "markdown",
      "source": [
        "Introducing our versatile and stylish office chair, part of a mid-century inspired furniture collection. Choose from a variety of shell colors and base finishes to suit your space. Constructed with durable materials like cast aluminum and HD36 foam, this chair is perfect for both home and business settings. Made in Italy.\n"
      ],
      "metadata": {
        "id": "2orcDh_i_bo1"
      }
    },
    {
      "cell_type": "code",
      "source": [
        "prompt = f\"\"\"\n",
        "Your task is to help a marketing team create a\n",
        "description for a retail website of a product based\n",
        "on a technical fact sheet.\n",
        "\n",
        "Write a product description based on the information\n",
        "provided in the technical specifications delimited by\n",
        "triple backticks.\n",
        "\n",
        "The description is intended for furniture retailers,\n",
        "so should be technical in nature and focus on the\n",
        "materials the product is constructed from.\n",
        "\n",
        "At the end of the description, include every 7-character\n",
        "Product ID in the technical specification.\n",
        "\n",
        "Use at most 50 words.\n",
        "\n",
        "Technical specifications: ```{fact_sheet_chair}````\n",
        "\"\"\"\n",
        "\n",
        "response = get_completion(prompt)\n",
        "print(response)"
      ],
      "metadata": {
        "id": "atAG7YPK_xDM"
      },
      "execution_count": null,
      "outputs": []
    },
    {
      "cell_type": "markdown",
      "source": [
        "Introducing our versatile and stylish office chair, part of a mid-century inspired furniture collection. Choose from a variety of shell colors and base finishes to suit your space. Constructed with a durable aluminum base and high-density foam seat for comfort. Perfect for home or business use.\n",
        "\n",
        "Product IDs: SWC-100, SWC-110"
      ],
      "metadata": {
        "id": "fkZ-eQZ_AEIh"
      }
    },
    {
      "cell_type": "markdown",
      "source": [
        "# Issue 3: Description needs a table of dimensions\n",
        "\n",
        "*   Ask it to extract information and organize it in a table.\n",
        "\n"
      ],
      "metadata": {
        "id": "h9xF14Cw9Bt_"
      }
    },
    {
      "cell_type": "code",
      "source": [
        "prompt = f\"\"\"\n",
        "Your task is to help a marketing team create a\n",
        "description for a retail website of a product based\n",
        "on a technical fact sheet.\n",
        "\n",
        "Write a product description based on the information\n",
        "provided in the technical specifications delimited by\n",
        "triple backticks.\n",
        "\n",
        "The description is intended for furniture retailers,\n",
        "so should be technical in nature and focus on the\n",
        "materials the product is constructed from.\n",
        "\n",
        "At the end of the description, include every 7-character\n",
        "Product ID in the technical specification.\n",
        "\n",
        "After the description, include a table that gives the\n",
        "product's dimensions. The table should have two columns.\n",
        "In the first column include the name of the dimension.\n",
        "In the second column include the measurements in inches only.\n",
        "\n",
        "Give the table the title 'Product Dimensions'.\n",
        "\n",
        "Format everything as HTML that can be used in a website.\n",
        "Place the description in a <div> element.\n",
        "\n",
        "Technical specifications: ```{fact_sheet_chair}```\n",
        "\"\"\"\n",
        "\n",
        "response = get_completion(prompt)\n",
        "print(response)"
      ],
      "metadata": {
        "id": "GXx7OfTP9Ro4"
      },
      "execution_count": null,
      "outputs": []
    },
    {
      "cell_type": "markdown",
      "source": [
        "<div>\n",
        "  <p>Introducing our latest addition to the mid-century inspired office furniture collection - the versatile and stylish office chair. This chair is designed to elevate any workspace, whether it be at home or in a business setting. With a variety of shell colors and base finishes to choose from, you can customize this chair to fit your aesthetic perfectly.</p>\n",
        "  \n",
        "  <p>The construction of this chair is top-notch, featuring a 5-wheel plastic coated aluminum base for stability and mobility. The pneumatic chair adjust allows for easy raise and lower action, ensuring maximum comfort throughout the day.</p>\n",
        "  \n",
        "  <p>Constructed with high-quality materials, the shell base glider is made of cast aluminum with a modified nylon PA6/PA66 coating, providing durability and style. The seat is filled with HD36 foam, offering a comfortable seating experience.</p>\n",
        "  \n",
        "  <p>Product ID: SWC-100</p>\n",
        "  <p>Product Dimensions:</p>\n",
        "  <table>\n",
        "    <tr>\n",
        "      <td>WIDTH</td>\n",
        "      <td>20.87\"</td>\n",
        "    </tr>\n",
        "    <tr>\n",
        "      <td>DEPTH</td>\n",
        "      <td>20.08\"</td>\n",
        "    </tr>\n",
        "    <tr>\n",
        "      <td>HEIGHT</td>\n",
        "      <td>31.50\"</td>\n",
        "    </tr>\n",
        "    <tr>\n",
        "      <td>SEAT HEIGHT</td>\n",
        "      <td>17.32\"</td>\n",
        "    </tr>\n",
        "    <tr>\n",
        "      <td>SEAT DEPTH</td>\n",
        "      <td>16.14\"</td>\n",
        "    </tr>\n",
        "  </table>\n",
        "</div>\n"
      ],
      "metadata": {
        "id": "tomyGhU8ANWZ"
      }
    },
    {
      "cell_type": "markdown",
      "source": [
        "# Load Python libraries to view HTML"
      ],
      "metadata": {
        "id": "h8nHzy0u-qkt"
      }
    },
    {
      "cell_type": "code",
      "source": [
        "from IPython.display import display, HTML"
      ],
      "metadata": {
        "id": "fhqS9gek-ziy"
      },
      "execution_count": null,
      "outputs": []
    },
    {
      "cell_type": "code",
      "source": [
        "display(HTML(response))"
      ],
      "metadata": {
        "id": "JuWsYVsg-5Nx"
      },
      "execution_count": null,
      "outputs": []
    },
    {
      "cell_type": "markdown",
      "source": [
        "Introducing our latest addition to the mid-century inspired office furniture collection - the versatile and stylish office chair. This chair is designed to elevate any workspace, whether it be at home or in a business setting. With a variety of shell colors and base finishes to choose from, you can customize this chair to fit your aesthetic perfectly.\n",
        "\n",
        "The construction of this chair is top-notch, featuring a 5-wheel plastic coated aluminum base for stability and mobility. The pneumatic chair adjust allows for easy raise and lower action, ensuring maximum comfort throughout the day.\n",
        "\n",
        "Constructed with high-quality materials, the shell base glider is made of cast aluminum with a modified nylon PA6/PA66 coating, providing durability and style. The seat is filled with HD36 foam, offering a comfortable seating experience.\n",
        "\n",
        "Product ID: SWC-100\n",
        "\n",
        "Product Dimensions:\n",
        "\n",
        "WIDTH\t20.87\"\n",
        "DEPTH\t20.08\"\n",
        "HEIGHT\t31.50\"\n",
        "SEAT HEIGHT\t17.32\"\n",
        "SEAT DEPTH\t16.14\"\n"
      ],
      "metadata": {
        "id": "9JR3IukrAUfV"
      }
    }
  ]
}